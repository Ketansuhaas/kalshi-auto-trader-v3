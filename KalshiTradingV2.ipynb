{
 "cells": [
  {
   "cell_type": "code",
   "execution_count": 1,
   "metadata": {},
   "outputs": [],
   "source": [
    "# Welcome to the Kalshi REST v2 Starter Code!\n",
    "\n",
    "# pypi client: recommended for more advanced programmers\n",
    "import kalshi_python\n",
    "\n",
    "# starter client: recommended for all levels of programming experience (what this client is implemented using)\n",
    "from KalshiClientsBaseV2 import ExchangeClient\n",
    "import time\n",
    "import json\n",
    "import uuid"
   ]
  },
  {
   "cell_type": "code",
   "execution_count": 2,
   "metadata": {},
   "outputs": [
    {
     "name": "stdout",
     "output_type": "stream",
     "text": [
      "{'exchange_active': True, 'trading_active': True}\n"
     ]
    }
   ],
   "source": [
    "# To start off, you need to have created an account at https://kalshi.com (Production) \n",
    "# or an account on the Demo https://demo.kalshi.co/\n",
    "\n",
    "prod_email = \"\" # change these to be your personal credentials\n",
    "prod_password = \"\" # (for extra security, we recommend using a config file)\n",
    "\n",
    "demo_email = \"ketanss@bu.edu\" # change these to be your personal credentials\n",
    "demo_password = \"Ketankalshi2001#\" # (for extra security, we recommend using a config file)\n",
    "\n",
    "# for prod\n",
    "prod_api_base = \"https://trading-api.kalshi.com/trade-api/v2\"\n",
    "\n",
    "# for demo\n",
    "demo_api_base = \"https://demo-api.kalshi.co/trade-api/v2\"\n",
    "\n",
    "## if wanting to test in prod:\n",
    "# exchange_client = ExchangeClient(exchange_api_base=prod_api_base, email = prod_email, password = prod_password)\n",
    "\n",
    "## if wanting to test in demo\n",
    "exchange_client = ExchangeClient(exchange_api_base = demo_api_base, email = demo_email, password = demo_password)\n",
    "\n",
    "# first we will check on the exchange status to confirm you are properly connected...\n",
    "print(exchange_client.get_exchange_status())"
   ]
  },
  {
   "cell_type": "code",
   "execution_count": 6,
   "metadata": {},
   "outputs": [
    {
     "name": "stdout",
     "output_type": "stream",
     "text": [
      "keys: dict_keys(['event', 'markets'])\n",
      "\n",
      "event object: {'event_ticker': 'HIGHNY-23OCT09', 'series_ticker': 'HIGHNY', 'sub_title': 'On Oct 9, 2023', 'title': 'What will the high temp be in NYC on Oct 9, 2023?', 'mutually_exclusive': True, 'category': 'Climate and Weather', 'strike_date': '2023-10-10T03:59:00Z'}\n",
      "\n",
      "[{'ticker': 'HIGHNY-23OCT09-T56', 'event_ticker': '', 'market_type': 'binary', 'title': '', 'subtitle': '55° or below', 'yes_sub_title': '55° or below', 'no_sub_title': 'Outside 55° or below', 'open_time': '2023-10-08T14:00:00Z', 'close_time': '2023-10-10T03:59:00Z', 'expected_expiration_time': '2023-10-10T14:00:00Z', 'expiration_time': '2023-10-16T14:00:00Z', 'latest_expiration_time': '2023-10-16T14:00:00Z', 'settlement_timer_seconds': 3600, 'status': 'active', 'response_price_units': 'usd_cent', 'notional_value': 100, 'tick_size': 1, 'yes_bid': 0, 'yes_ask': 1, 'no_bid': 0, 'no_ask': 0, 'last_price': 0, 'previous_yes_bid': 0, 'previous_yes_ask': 0, 'previous_price': 0, 'volume': 0, 'volume_24h': 0, 'liquidity': 4, 'open_interest': 0, 'result': '', 'can_close_early': True, 'expiration_value': '', 'category': '', 'risk_limit_cents': 2500000, 'strike_type': 'less', 'cap_strike': 56, 'rules_primary': \"If the highest temperature recorded in Central Park, New York for October 09, 2023 as reported by the National Weather Service's Daily Climate Report, is less than 56°, then the market resolves to Yes.\", 'rules_secondary': 'Please be advised to check to see what temperatures have occurred previously in the day. While the market resolves based on the finalized report from the NWS, traders should use other data sources--including other preliminary NWS reporting--to inform their trades.\\n \\nThe Last Trading Time will be 11:59 PM ET on October 09, 2023 regardless of any data releases or events occurring. Expiration will occur on the sooner of the first 10:00 AM following the release of the data for October 09, 2023, or one week after October 09, 2023.'}, {'ticker': 'HIGHNY-23OCT09-B56.5', 'event_ticker': '', 'market_type': 'binary', 'title': '', 'subtitle': '56° to 57°', 'yes_sub_title': '56° to 57°', 'no_sub_title': 'Outside 56° to 57°', 'open_time': '2023-10-08T14:00:00Z', 'close_time': '2023-10-10T03:59:00Z', 'expected_expiration_time': '2023-10-10T14:00:00Z', 'expiration_time': '2023-10-16T14:00:00Z', 'latest_expiration_time': '2023-10-16T14:00:00Z', 'settlement_timer_seconds': 3600, 'status': 'active', 'response_price_units': 'usd_cent', 'notional_value': 100, 'tick_size': 1, 'yes_bid': 0, 'yes_ask': 1, 'no_bid': 0, 'no_ask': 0, 'last_price': 0, 'previous_yes_bid': 0, 'previous_yes_ask': 0, 'previous_price': 0, 'volume': 0, 'volume_24h': 0, 'liquidity': 3, 'open_interest': 0, 'result': '', 'can_close_early': True, 'expiration_value': '', 'category': '', 'risk_limit_cents': 2500000, 'strike_type': 'between', 'floor_strike': 56, 'cap_strike': 57, 'rules_primary': \"If the highest temperature recorded in Central Park, New York for October 09, 2023 as reported by the National Weather Service's Daily Climate Report, is between 56-57°, then the market resolves to Yes.\", 'rules_secondary': 'Please be advised to check to see what temperatures have occurred previously in the day. While the market resolves based on the finalized report from the NWS, traders should use other data sources--including other preliminary NWS reporting--to inform their trades.\\n \\nThe Last Trading Time will be 11:59 PM ET on October 09, 2023 regardless of any data releases or events occurring. Expiration will occur on the sooner of the first 10:00 AM following the release of the data for October 09, 2023, or one week after October 09, 2023.'}, {'ticker': 'HIGHNY-23OCT09-B58.5', 'event_ticker': '', 'market_type': 'binary', 'title': '', 'subtitle': '58° to 59°', 'yes_sub_title': '58° to 59°', 'no_sub_title': 'Outside 58° to 59°', 'open_time': '2023-10-08T14:00:00Z', 'close_time': '2023-10-10T03:59:00Z', 'expected_expiration_time': '2023-10-10T14:00:00Z', 'expiration_time': '2023-10-16T14:00:00Z', 'latest_expiration_time': '2023-10-16T14:00:00Z', 'settlement_timer_seconds': 3600, 'status': 'active', 'response_price_units': 'usd_cent', 'notional_value': 100, 'tick_size': 1, 'yes_bid': 0, 'yes_ask': 1, 'no_bid': 0, 'no_ask': 0, 'last_price': 1, 'previous_yes_bid': 0, 'previous_yes_ask': 1, 'previous_price': 0, 'volume': 100, 'volume_24h': 100, 'liquidity': 2, 'open_interest': 100, 'result': '', 'can_close_early': True, 'expiration_value': '', 'category': '', 'risk_limit_cents': 2500000, 'strike_type': 'between', 'floor_strike': 58, 'cap_strike': 59, 'rules_primary': \"If the highest temperature recorded in Central Park, New York for October 09, 2023 as reported by the National Weather Service's Daily Climate Report, is between 58-59°, then the market resolves to Yes.\", 'rules_secondary': 'Please be advised to check to see what temperatures have occurred previously in the day. While the market resolves based on the finalized report from the NWS, traders should use other data sources--including other preliminary NWS reporting--to inform their trades.\\n \\nThe Last Trading Time will be 11:59 PM ET on October 09, 2023 regardless of any data releases or events occurring. Expiration will occur on the sooner of the first 10:00 AM following the release of the data for October 09, 2023, or one week after October 09, 2023.'}, {'ticker': 'HIGHNY-23OCT09-B60.5', 'event_ticker': '', 'market_type': 'binary', 'title': '', 'subtitle': '60° to 61°', 'yes_sub_title': '60° to 61°', 'no_sub_title': 'Outside 60° to 61°', 'open_time': '2023-10-08T14:00:00Z', 'close_time': '2023-10-10T03:59:00Z', 'expected_expiration_time': '2023-10-10T14:00:00Z', 'expiration_time': '2023-10-16T14:00:00Z', 'latest_expiration_time': '2023-10-16T14:00:00Z', 'settlement_timer_seconds': 3600, 'status': 'active', 'response_price_units': 'usd_cent', 'notional_value': 100, 'tick_size': 1, 'yes_bid': 99, 'yes_ask': 100, 'no_bid': 0, 'no_ask': 0, 'last_price': 99, 'previous_yes_bid': 0, 'previous_yes_ask': 0, 'previous_price': 0, 'volume': 1, 'volume_24h': 1, 'liquidity': 6989, 'open_interest': 1, 'result': '', 'can_close_early': True, 'expiration_value': '', 'category': '', 'risk_limit_cents': 2500000, 'strike_type': 'between', 'floor_strike': 60, 'cap_strike': 61, 'rules_primary': \"If the highest temperature recorded in Central Park, New York for October 09, 2023 as reported by the National Weather Service's Daily Climate Report, is between 60-61°, then the market resolves to Yes.\", 'rules_secondary': 'Please be advised to check to see what temperatures have occurred previously in the day. While the market resolves based on the finalized report from the NWS, traders should use other data sources--including other preliminary NWS reporting--to inform their trades.\\n \\nThe Last Trading Time will be 11:59 PM ET on October 09, 2023 regardless of any data releases or events occurring. Expiration will occur on the sooner of the first 10:00 AM following the release of the data for October 09, 2023, or one week after October 09, 2023.'}, {'ticker': 'HIGHNY-23OCT09-B62.5', 'event_ticker': '', 'market_type': 'binary', 'title': '', 'subtitle': '62° to 63°', 'yes_sub_title': '62° to 63°', 'no_sub_title': 'Outside 62° to 63°', 'open_time': '2023-10-08T14:00:00Z', 'close_time': '2023-10-10T03:59:00Z', 'expected_expiration_time': '2023-10-10T14:00:00Z', 'expiration_time': '2023-10-16T14:00:00Z', 'latest_expiration_time': '2023-10-16T14:00:00Z', 'settlement_timer_seconds': 3600, 'status': 'active', 'response_price_units': 'usd_cent', 'notional_value': 100, 'tick_size': 1, 'yes_bid': 1, 'yes_ask': 100, 'no_bid': 0, 'no_ask': 0, 'last_price': 0, 'previous_yes_bid': 0, 'previous_yes_ask': 0, 'previous_price': 0, 'volume': 0, 'volume_24h': 0, 'liquidity': 99000, 'open_interest': 0, 'result': '', 'can_close_early': True, 'expiration_value': '', 'category': '', 'risk_limit_cents': 2500000, 'strike_type': 'between', 'floor_strike': 62, 'cap_strike': 63, 'rules_primary': \"If the highest temperature recorded in Central Park, New York for October 09, 2023 as reported by the National Weather Service's Daily Climate Report, is between 62-63°, then the market resolves to Yes.\", 'rules_secondary': 'Please be advised to check to see what temperatures have occurred previously in the day. While the market resolves based on the finalized report from the NWS, traders should use other data sources--including other preliminary NWS reporting--to inform their trades.\\n \\nThe Last Trading Time will be 11:59 PM ET on October 09, 2023 regardless of any data releases or events occurring. Expiration will occur on the sooner of the first 10:00 AM following the release of the data for October 09, 2023, or one week after October 09, 2023.'}, {'ticker': 'HIGHNY-23OCT09-T63', 'event_ticker': '', 'market_type': 'binary', 'title': '', 'subtitle': '64° or above', 'yes_sub_title': '64° or above', 'no_sub_title': 'Outside 64° or above', 'open_time': '2023-10-08T14:00:00Z', 'close_time': '2023-10-10T03:59:00Z', 'expected_expiration_time': '2023-10-10T14:00:00Z', 'expiration_time': '2023-10-16T14:00:00Z', 'latest_expiration_time': '2023-10-16T14:00:00Z', 'settlement_timer_seconds': 3600, 'status': 'active', 'response_price_units': 'usd_cent', 'notional_value': 100, 'tick_size': 1, 'yes_bid': 0, 'yes_ask': 0, 'no_bid': 0, 'no_ask': 0, 'last_price': 0, 'previous_yes_bid': 0, 'previous_yes_ask': 0, 'previous_price': 0, 'volume': 0, 'volume_24h': 0, 'liquidity': 0, 'open_interest': 0, 'result': '', 'can_close_early': True, 'expiration_value': '', 'category': '', 'risk_limit_cents': 2500000, 'strike_type': 'greater', 'floor_strike': 63, 'rules_primary': \"If the highest temperature recorded in Central Park, New York for October 09, 2023 as reported by the National Weather Service's Daily Climate Report, is greater than 63°, then the market resolves to Yes.\", 'rules_secondary': 'Please be advised to check to see what temperatures have occurred previously in the day. While the market resolves based on the finalized report from the NWS, traders should use other data sources--including other preliminary NWS reporting--to inform their trades.\\n \\nThe Last Trading Time will be 11:59 PM ET on October 09, 2023 regardless of any data releases or events occurring. Expiration will occur on the sooner of the first 10:00 AM following the release of the data for October 09, 2023, or one week after October 09, 2023.'}]\n"
     ]
    }
   ],
   "source": [
    "# Next, let's look at event level data by passing an event ticker to the get_event endpoint...\n",
    "\n",
    "event_ticker = \"HIGHNY-23OCT09\"\n",
    "event_params = {'event_ticker': event_ticker}\n",
    "event_response = exchange_client.get_event(**event_params)\n",
    "\n",
    "print('keys:', event_response.keys())\n",
    "print()\n",
    "print('event object:', event_response['event'])\n",
    "print()\n",
    "print(event_response['markets'])"
   ]
  },
  {
   "cell_type": "code",
   "execution_count": 8,
   "metadata": {},
   "outputs": [
    {
     "data": {
      "text/plain": [
       "['HIGHNY-23OCT09-T56',\n",
       " 'HIGHNY-23OCT09-B56.5',\n",
       " 'HIGHNY-23OCT09-B58.5',\n",
       " 'HIGHNY-23OCT09-B60.5',\n",
       " 'HIGHNY-23OCT09-B62.5',\n",
       " 'HIGHNY-23OCT09-T63']"
      ]
     },
     "execution_count": 8,
     "metadata": {},
     "output_type": "execute_result"
    }
   ],
   "source": [
    "tickers = []\n",
    "for i in event_response['markets']:\n",
    "    tickers.append(i['ticker'])\n",
    "tickers"
   ]
  },
  {
   "cell_type": "code",
   "execution_count": 9,
   "metadata": {},
   "outputs": [
    {
     "data": {
      "text/plain": [
       "[56.0, 56.5, 58.5, 60.5, 62.5, 63.0]"
      ]
     },
     "execution_count": 9,
     "metadata": {},
     "output_type": "execute_result"
    }
   ],
   "source": [
    "tickers_ranges = [float(x.split('-')[-1][1:]) for x in tickers]\n",
    "tickers_ranges"
   ]
  },
  {
   "cell_type": "code",
   "execution_count": 10,
   "metadata": {},
   "outputs": [],
   "source": [
    "\n",
    "for i in range(1,len(tickers_ranges)-1):\n",
    "    tickers_ranges[i] = [tickers_ranges[i]-0.5,tickers_ranges[i]+0.5]\n",
    "    \n",
    "tickers_ranges\n",
    "tickers_ranges[0] = [-20,tickers_ranges[0]-1]\n",
    "tickers_ranges[-1] = [tickers_ranges[-1]+1,150]\n"
   ]
  },
  {
   "cell_type": "code",
   "execution_count": 11,
   "metadata": {},
   "outputs": [
    {
     "data": {
      "text/plain": [
       "[[-20, 55.0],\n",
       " [56.0, 57.0],\n",
       " [58.0, 59.0],\n",
       " [60.0, 61.0],\n",
       " [62.0, 63.0],\n",
       " [64.0, 150]]"
      ]
     },
     "execution_count": 11,
     "metadata": {},
     "output_type": "execute_result"
    }
   ],
   "source": [
    "tickers_ranges"
   ]
  },
  {
   "cell_type": "code",
   "execution_count": 12,
   "metadata": {},
   "outputs": [
    {
     "data": {
      "text/plain": [
       "4"
      ]
     },
     "execution_count": 12,
     "metadata": {},
     "output_type": "execute_result"
    }
   ],
   "source": [
    "pred = round(62.51)\n",
    "def get_ticker(tickers_ranges,pred):\n",
    "    for i in range(len(tickers_ranges)):\n",
    "        if pred>=tickers_ranges[i][0] and pred<=tickers_ranges[i][1]:\n",
    "            return i\n",
    "get_ticker(tickers_ranges,pred)"
   ]
  },
  {
   "cell_type": "code",
   "execution_count": 47,
   "metadata": {},
   "outputs": [
    {
     "data": {
      "text/plain": [
       "998236"
      ]
     },
     "execution_count": 47,
     "metadata": {},
     "output_type": "execute_result"
    }
   ],
   "source": [
    "# Now let's suppose we wanted to place a trade on one of these markets... \n",
    "# to do so, we would first want to check out available balance...\n",
    "\n",
    "current_balance = exchange_client.get_balance()\n",
    "current_balance['balance']"
   ]
  },
  {
   "cell_type": "code",
   "execution_count": 13,
   "metadata": {},
   "outputs": [
    {
     "name": "stdout",
     "output_type": "stream",
     "text": [
      "{'ticker': 'HIGHNY-23OCT09-B60.5', 'client_order_id': '9caba753-7d52-4ee4-8fca-1170eea57823', 'side': 'yes', 'action': 'buy', 'count': 1, 'type': 'limit', 'no_price': 50}\n"
     ]
    },
    {
     "data": {
      "text/plain": [
       "{'order': {'order_id': '8863b5d0-8dba-4181-bfa1-e06f00f01307',\n",
       "  'user_id': '3c449eea-e6ea-4ff6-85e5-753d49e743f3',\n",
       "  'ticker': 'HIGHNY-23OCT09-B60.5',\n",
       "  'status': 'resting',\n",
       "  'yes_price': 50,\n",
       "  'no_price': 50,\n",
       "  'created_time': '2023-10-09T14:05:25.765531Z',\n",
       "  'expiration_time': None,\n",
       "  'action': 'buy',\n",
       "  'side': 'yes',\n",
       "  'type': 'limit',\n",
       "  'client_order_id': '9caba753-7d52-4ee4-8fca-1170eea57823',\n",
       "  'order_group_id': ''}}"
      ]
     },
     "execution_count": 13,
     "metadata": {},
     "output_type": "execute_result"
    }
   ],
   "source": [
    "# Now onto placing an order...\n",
    "# There are many different ways to think about placing orders at Kalshi. \n",
    "# The following param examples will walk through some of those\n",
    "\n",
    "# Limit buy order for 10 units at 30c No on GDPW-22-A3\n",
    "\n",
    "ticker = tickers[3]\n",
    "\n",
    "order_params = {'ticker':ticker,\n",
    "                    'client_order_id':str(uuid.uuid4()),\n",
    "                    'type':'limit',\n",
    "                    'action':'buy',\n",
    "                    'side':'yes',\n",
    "                    'count':1,\n",
    "                    'yes_price':None, # yes_price = 100 - no_price\n",
    "                    'no_price':50, # no_price = 100 - yes_price\n",
    "                    'expiration_ts':None,\n",
    "                    'sell_position_floor':None,\n",
    "                    'buy_max_cost':None}\n",
    "\n",
    "exchange_client.create_order(**order_params)\n"
   ]
  },
  {
   "cell_type": "code",
   "execution_count": null,
   "metadata": {},
   "outputs": [],
   "source": []
  }
 ],
 "metadata": {
  "kernelspec": {
   "display_name": "Python 3.10.6 ('poirot-vcTB4MYn-py3.10')",
   "language": "python",
   "name": "python3"
  },
  "language_info": {
   "codemirror_mode": {
    "name": "ipython",
    "version": 3
   },
   "file_extension": ".py",
   "mimetype": "text/x-python",
   "name": "python",
   "nbconvert_exporter": "python",
   "pygments_lexer": "ipython3",
   "version": "3.9.16"
  },
  "orig_nbformat": 2,
  "vscode": {
   "interpreter": {
    "hash": "1e51d4bf4e6bbe92f2ac3572d179994f6afffdaaebc6d7bcc5f1b4952a9d4584"
   }
  }
 },
 "nbformat": 4,
 "nbformat_minor": 2
}
